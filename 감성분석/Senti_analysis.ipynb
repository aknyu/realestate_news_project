{
 "cells": [
  {
   "cell_type": "code",
   "execution_count": 2,
   "id": "46b0063a-8921-4a8c-a6eb-62057e32e78f",
   "metadata": {},
   "outputs": [],
   "source": [
    "import os\n",
    "import pandas as pd\n",
    "import numpy as np\n",
    "import requests\n",
    "import re, os, math\n",
    "import collections\n",
    "import pickle\n",
    "from datetime import datetime\n",
    "import time\n",
    "import json\n",
    "\n",
    "from bs4 import BeautifulSoup\n",
    "from dateutil.relativedelta import relativedelta\n",
    "\n",
    "from collections import Counter\n",
    "from sklearn.feature_extraction import DictVectorizer\n",
    "from sklearn.feature_extraction.text import CountVectorizer, TfidfVectorizer\n",
    "\n",
    "import sys\n",
    "#sys.path.insert(0, \"Users\\medici\\Desktop\\clustering4docs-master\\soyclustering\")\n",
    "#from soyclustering import SphericalKMeans\n",
    "\n",
    "import matplotlib.pyplot as plt\n",
    "plt.rcParams['font.family'] = 'Malgun Gothic'\n",
    "plt.rcParams['figure.figsize']= 12,6\n",
    "plt.rcParams['axes.unicode_minus'] = False"
   ]
  },
  {
   "cell_type": "code",
   "execution_count": 3,
   "id": "fd5ac646-330b-468e-a4d2-88b62d4720fb",
   "metadata": {
    "tags": []
   },
   "outputs": [],
   "source": [
    "import datetime as dt\n",
    "from datetime import datetime\n",
    "from dateutil.relativedelta import *"
   ]
  },
  {
   "cell_type": "code",
   "execution_count": 4,
   "id": "fc10a91a-910f-4cac-b7da-61f861045b07",
   "metadata": {},
   "outputs": [],
   "source": [
    "import warnings\n",
    "warnings.filterwarnings('ignore')"
   ]
  },
  {
   "cell_type": "markdown",
   "id": "c551f665-ccfc-44cb-98fa-d7729a46523a",
   "metadata": {},
   "source": [
    "# 1. NEWS Title 대상 감성분석\n",
    "- 비지도학습 : 군산대 감성사전 + 부동산 도메인 감성사전 적용"
   ]
  },
  {
   "cell_type": "markdown",
   "id": "3d981ff3-bcaf-4793-a920-1fab05ce059d",
   "metadata": {},
   "source": [
    "## 1) (1차) 긍부정 라벨링 감성분석"
   ]
  },
  {
   "cell_type": "code",
   "execution_count": 6,
   "id": "472518dd-7495-43d2-8cf8-c1fa7b20e980",
   "metadata": {
    "scrolled": true
   },
   "outputs": [
    {
     "data": {
      "text/html": [
       "<div>\n",
       "<style scoped>\n",
       "    .dataframe tbody tr th:only-of-type {\n",
       "        vertical-align: middle;\n",
       "    }\n",
       "\n",
       "    .dataframe tbody tr th {\n",
       "        vertical-align: top;\n",
       "    }\n",
       "\n",
       "    .dataframe thead th {\n",
       "        text-align: right;\n",
       "    }\n",
       "</style>\n",
       "<table border=\"1\" class=\"dataframe\">\n",
       "  <thead>\n",
       "    <tr style=\"text-align: right;\">\n",
       "      <th></th>\n",
       "      <th>Unnamed: 0</th>\n",
       "      <th>0</th>\n",
       "      <th>1</th>\n",
       "      <th>sj_긍부정</th>\n",
       "      <th>yj_긍부정</th>\n",
       "      <th>통일</th>\n",
       "      <th>score</th>\n",
       "    </tr>\n",
       "  </thead>\n",
       "  <tbody>\n",
       "    <tr>\n",
       "      <th>0</th>\n",
       "      <td>0</td>\n",
       "      <td>거래</td>\n",
       "      <td>16134</td>\n",
       "      <td>0</td>\n",
       "      <td>0</td>\n",
       "      <td>0</td>\n",
       "      <td>0</td>\n",
       "    </tr>\n",
       "    <tr>\n",
       "      <th>1</th>\n",
       "      <td>1</td>\n",
       "      <td>아파트</td>\n",
       "      <td>14114</td>\n",
       "      <td>0</td>\n",
       "      <td>0</td>\n",
       "      <td>0</td>\n",
       "      <td>0</td>\n",
       "    </tr>\n",
       "    <tr>\n",
       "      <th>2</th>\n",
       "      <td>2</td>\n",
       "      <td>부동산</td>\n",
       "      <td>13368</td>\n",
       "      <td>0</td>\n",
       "      <td>0</td>\n",
       "      <td>0</td>\n",
       "      <td>0</td>\n",
       "    </tr>\n",
       "    <tr>\n",
       "      <th>3</th>\n",
       "      <td>3</td>\n",
       "      <td>전용</td>\n",
       "      <td>13144</td>\n",
       "      <td>0</td>\n",
       "      <td>0</td>\n",
       "      <td>0</td>\n",
       "      <td>0</td>\n",
       "    </tr>\n",
       "    <tr>\n",
       "      <th>4</th>\n",
       "      <td>4</td>\n",
       "      <td>서울특별시</td>\n",
       "      <td>9921</td>\n",
       "      <td>0</td>\n",
       "      <td>0</td>\n",
       "      <td>0</td>\n",
       "      <td>0</td>\n",
       "    </tr>\n",
       "    <tr>\n",
       "      <th>5</th>\n",
       "      <td>5</td>\n",
       "      <td>서울</td>\n",
       "      <td>7857</td>\n",
       "      <td>0</td>\n",
       "      <td>0</td>\n",
       "      <td>0</td>\n",
       "      <td>0</td>\n",
       "    </tr>\n",
       "    <tr>\n",
       "      <th>6</th>\n",
       "      <td>6</td>\n",
       "      <td>분양</td>\n",
       "      <td>7305</td>\n",
       "      <td>0</td>\n",
       "      <td>0</td>\n",
       "      <td>0</td>\n",
       "      <td>0</td>\n",
       "    </tr>\n",
       "    <tr>\n",
       "      <th>7</th>\n",
       "      <td>7</td>\n",
       "      <td>올라</td>\n",
       "      <td>7178</td>\n",
       "      <td>긍정</td>\n",
       "      <td>긍정</td>\n",
       "      <td>긍정</td>\n",
       "      <td>1</td>\n",
       "    </tr>\n",
       "    <tr>\n",
       "      <th>8</th>\n",
       "      <td>8</td>\n",
       "      <td>집값</td>\n",
       "      <td>6490</td>\n",
       "      <td>0</td>\n",
       "      <td>0</td>\n",
       "      <td>0</td>\n",
       "      <td>0</td>\n",
       "    </tr>\n",
       "    <tr>\n",
       "      <th>9</th>\n",
       "      <td>9</td>\n",
       "      <td>주택</td>\n",
       "      <td>5633</td>\n",
       "      <td>0</td>\n",
       "      <td>0</td>\n",
       "      <td>0</td>\n",
       "      <td>0</td>\n",
       "    </tr>\n",
       "    <tr>\n",
       "      <th>10</th>\n",
       "      <td>10</td>\n",
       "      <td>시장</td>\n",
       "      <td>5239</td>\n",
       "      <td>0</td>\n",
       "      <td>0</td>\n",
       "      <td>0</td>\n",
       "      <td>0</td>\n",
       "    </tr>\n",
       "    <tr>\n",
       "      <th>11</th>\n",
       "      <td>11</td>\n",
       "      <td>내려</td>\n",
       "      <td>4905</td>\n",
       "      <td>부정</td>\n",
       "      <td>부정</td>\n",
       "      <td>부정</td>\n",
       "      <td>-1</td>\n",
       "    </tr>\n",
       "    <tr>\n",
       "      <th>12</th>\n",
       "      <td>12</td>\n",
       "      <td>규제</td>\n",
       "      <td>4033</td>\n",
       "      <td>부정</td>\n",
       "      <td>부정</td>\n",
       "      <td>부정</td>\n",
       "      <td>-1</td>\n",
       "    </tr>\n",
       "    <tr>\n",
       "      <th>13</th>\n",
       "      <td>13</td>\n",
       "      <td>강남</td>\n",
       "      <td>3949</td>\n",
       "      <td>0</td>\n",
       "      <td>0</td>\n",
       "      <td>0</td>\n",
       "      <td>0</td>\n",
       "    </tr>\n",
       "    <tr>\n",
       "      <th>14</th>\n",
       "      <td>14</td>\n",
       "      <td>대책</td>\n",
       "      <td>3722</td>\n",
       "      <td>0</td>\n",
       "      <td>0</td>\n",
       "      <td>0</td>\n",
       "      <td>0</td>\n",
       "    </tr>\n",
       "    <tr>\n",
       "      <th>15</th>\n",
       "      <td>15</td>\n",
       "      <td>단지</td>\n",
       "      <td>3611</td>\n",
       "      <td>0</td>\n",
       "      <td>0</td>\n",
       "      <td>0</td>\n",
       "      <td>0</td>\n",
       "    </tr>\n",
       "    <tr>\n",
       "      <th>16</th>\n",
       "      <td>16</td>\n",
       "      <td>평균</td>\n",
       "      <td>3267</td>\n",
       "      <td>0</td>\n",
       "      <td>0</td>\n",
       "      <td>0</td>\n",
       "      <td>0</td>\n",
       "    </tr>\n",
       "    <tr>\n",
       "      <th>17</th>\n",
       "      <td>17</td>\n",
       "      <td>정부</td>\n",
       "      <td>2999</td>\n",
       "      <td>0</td>\n",
       "      <td>0</td>\n",
       "      <td>0</td>\n",
       "      <td>0</td>\n",
       "    </tr>\n",
       "    <tr>\n",
       "      <th>18</th>\n",
       "      <td>18</td>\n",
       "      <td>청약</td>\n",
       "      <td>2988</td>\n",
       "      <td>?</td>\n",
       "      <td>0</td>\n",
       "      <td>0</td>\n",
       "      <td>0</td>\n",
       "    </tr>\n",
       "    <tr>\n",
       "      <th>19</th>\n",
       "      <td>19</td>\n",
       "      <td>전세</td>\n",
       "      <td>2844</td>\n",
       "      <td>0</td>\n",
       "      <td>0</td>\n",
       "      <td>0</td>\n",
       "      <td>0</td>\n",
       "    </tr>\n",
       "  </tbody>\n",
       "</table>\n",
       "</div>"
      ],
      "text/plain": [
       "    Unnamed: 0      0      1 sj_긍부정 yj_긍부정  통일  score\n",
       "0            0     거래  16134      0      0   0      0\n",
       "1            1    아파트  14114      0      0   0      0\n",
       "2            2    부동산  13368      0      0   0      0\n",
       "3            3     전용  13144      0      0   0      0\n",
       "4            4  서울특별시   9921      0      0   0      0\n",
       "5            5     서울   7857      0      0   0      0\n",
       "6            6     분양   7305      0      0   0      0\n",
       "7            7     올라   7178     긍정     긍정  긍정      1\n",
       "8            8     집값   6490      0      0   0      0\n",
       "9            9     주택   5633      0      0   0      0\n",
       "10          10     시장   5239      0      0   0      0\n",
       "11          11     내려   4905     부정     부정  부정     -1\n",
       "12          12     규제   4033     부정     부정  부정     -1\n",
       "13          13     강남   3949      0      0   0      0\n",
       "14          14     대책   3722      0      0   0      0\n",
       "15          15     단지   3611      0      0   0      0\n",
       "16          16     평균   3267      0      0   0      0\n",
       "17          17     정부   2999      0      0   0      0\n",
       "18          18     청약   2988      ?      0   0      0\n",
       "19          19     전세   2844      0      0   0      0"
      ]
     },
     "execution_count": 6,
     "metadata": {},
     "output_type": "execute_result"
    }
   ],
   "source": [
    "def score(x) :\n",
    "    if x == '부정' :\n",
    "        return -1\n",
    "    elif x == '긍정' :\n",
    "        return 1\n",
    "    else :\n",
    "        return 0\n",
    "    \n",
    "# title topic top1000개 감성라벨링한 파일\n",
    "df_words = pd.read_csv('../DATA/news_title_top1000_pos_neg.csv', encoding = 'euc-kr')\n",
    "df_words = df_words.fillna(0)\n",
    "\n",
    "df_words['score'] = [score(x) for x in df_words['통일']]\n",
    "df_words.head(20)"
   ]
  },
  {
   "cell_type": "code",
   "execution_count": 7,
   "id": "44928af1-368c-4032-b057-1337509ebd32",
   "metadata": {},
   "outputs": [],
   "source": [
    "senti_dict_domain = {k : v for k, v in zip(df_words['0'], df_words['score'])}"
   ]
  },
  {
   "cell_type": "markdown",
   "id": "deb844eb-3321-481f-a6a0-688d4e9a3b37",
   "metadata": {},
   "source": [
    "## 2) (2차) [군산대 감성사전] 감성분석"
   ]
  },
  {
   "cell_type": "code",
   "execution_count": 9,
   "id": "35c39f03-cbf9-48ab-80e1-556d247c0cd9",
   "metadata": {
    "tags": []
   },
   "outputs": [],
   "source": [
    "#군산대학교 감성사전 : http://dilab.kunsan.ac.kr/knusl.html \n",
    "with open(\"SentiWord_info.json\", encoding='utf-8-sig') as f :\n",
    "    sentiwords = json.load(f)\n",
    "    f.close()"
   ]
  },
  {
   "cell_type": "code",
   "execution_count": 17,
   "id": "e626cc5a-c307-4b49-8ef7-8a73b9afaff7",
   "metadata": {
    "tags": []
   },
   "outputs": [],
   "source": [
    "sentiword_dict_K = {x['word'] : (int(x['polarity']) * 0.25) for x in sentiwords}"
   ]
  },
  {
   "cell_type": "code",
   "execution_count": 18,
   "id": "189be486-de1e-471d-916b-0c7237727a4a",
   "metadata": {},
   "outputs": [],
   "source": [
    "# 1차, 2차 감성분석 결합\n",
    "sentiword_dict = dict(senti_dict_domain.items( ) | sentiword_dict_K.items( ) )   "
   ]
  },
  {
   "cell_type": "markdown",
   "id": "689ffec7-6def-452f-920e-4da3a146f597",
   "metadata": {
    "tags": []
   },
   "source": [
    "## 3) [OpenKoreanText] 부동산 도메인 감성분석"
   ]
  },
  {
   "cell_type": "code",
   "execution_count": 19,
   "id": "51dad979-f6c0-446c-9007-cfc93d5ba586",
   "metadata": {},
   "outputs": [],
   "source": [
    "from konlpy.tag import Okt\n",
    "t = Okt()\n",
    "\n",
    "def senti_score(sent) :\n",
    "    tokens = t.morphs(sent)\n",
    "    scores = [sentiword_dict.get(x, 0) for x in tokens]\n",
    "    #print(tokens)\n",
    "    #print(scores)\n",
    "    return sum(scores)"
   ]
  },
  {
   "cell_type": "markdown",
   "id": "55e9d593-a2e5-4392-a82d-50b6eb1426ec",
   "metadata": {},
   "source": [
    "- train"
   ]
  },
  {
   "cell_type": "code",
   "execution_count": 10,
   "id": "666dbc13-03f9-465f-9e89-46c1a2d3d61a",
   "metadata": {},
   "outputs": [],
   "source": [
    "df_train = pd.read_pickle('../DATA/df_train.pkl')"
   ]
  },
  {
   "cell_type": "code",
   "execution_count": 22,
   "id": "5d5936fe-62b2-40ea-bc9c-465445f6fe74",
   "metadata": {
    "tags": []
   },
   "outputs": [],
   "source": [
    "title_senti = [(x, senti_score(x)) for x in df_train['title']]"
   ]
  },
  {
   "cell_type": "markdown",
   "id": "f1de66cb-dd9a-477d-86e1-88a7d6fe7507",
   "metadata": {},
   "source": [
    "- test"
   ]
  },
  {
   "cell_type": "markdown",
   "id": "1cce7be0-1ec1-4d9f-898f-038a86a9d462",
   "metadata": {},
   "source": [
    "## 4) 결과확인"
   ]
  },
  {
   "cell_type": "code",
   "execution_count": 25,
   "id": "f3ed5f0d-8a75-4047-8fcb-179d6b139da3",
   "metadata": {},
   "outputs": [
    {
     "data": {
      "text/plain": [
       "[('초저금리 시대에 매월 안정적인 수익과 환금성이 높은 수익형 오피스텔 인기 급증', 5.25),\n",
       " ('초저금리 시대에 매월 안정적인 수익과 환금성이 높은 수익형 오피스텔 인기 급증!', 5.25),\n",
       " ('낙찰가율 70%벽 돌파 토지 경매시장 고공행진 재개발 재건축도 꿈틀', 5),\n",
       " (\"'재건축 연한 단축'호재에 1980년대 아파트 인기 낙찰가율 급등\", 5),\n",
       " (\"서울 도심 재개발 재건축 아파트에 관심 몰려 '북한산 더샵’ 분양 인기 상승\", 5)]"
      ]
     },
     "execution_count": 25,
     "metadata": {},
     "output_type": "execute_result"
    }
   ],
   "source": [
    "# 감성지수 내림차순 정렬\n",
    "sorted(title_senti, key = lambda x : -x[1])[:5]"
   ]
  },
  {
   "cell_type": "code",
   "execution_count": 27,
   "id": "3ebb0cb0-0f49-402b-8ac7-550ef5d6f2da",
   "metadata": {},
   "outputs": [
    {
     "data": {
      "text/plain": [
       "[('탈세 편법대출 난무 9억 이상 고가주택 불법거래 811건', -6),\n",
       " (\"[정부 부동산 규제 가시화] 부산 부동산, 금리 인상 대출 규제 투기 지구 '3각 파도'에 기 꺾일까\", -5.5),\n",
       " ('금리인상 악재 현실화된 부동산시장 하락세 심화 우려', -5.5),\n",
       " (\"'풍선효과' 우려없나...고가 다주택자 대출규제 없어 한계도\", -5.25),\n",
       " ('대출규제로 거래심리 ‘꽁꽁’ 신도시 분양권 웃돈 반토막', -5)]"
      ]
     },
     "execution_count": 27,
     "metadata": {},
     "output_type": "execute_result"
    }
   ],
   "source": [
    "# 감성지수 오름차순 정렬\n",
    "sorted(title_senti, key = lambda x : x[1])[:5]"
   ]
  }
 ],
 "metadata": {
  "kernelspec": {
   "display_name": "Python 3 (ipykernel)",
   "language": "python",
   "name": "python3"
  },
  "language_info": {
   "codemirror_mode": {
    "name": "ipython",
    "version": 3
   },
   "file_extension": ".py",
   "mimetype": "text/x-python",
   "name": "python",
   "nbconvert_exporter": "python",
   "pygments_lexer": "ipython3",
   "version": "3.9.7"
  }
 },
 "nbformat": 4,
 "nbformat_minor": 5
}
