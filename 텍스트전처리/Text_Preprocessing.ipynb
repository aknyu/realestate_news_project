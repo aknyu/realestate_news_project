{
 "cells": [
  {
   "cell_type": "markdown",
   "id": "525d0dba-6421-4a07-ba35-b46c2b93ffd1",
   "metadata": {},
   "source": [
    "## 텍스트 전처리 실습\n",
    "\n",
    "다음뉴스 본문을 크롤링하고, 본문 텍스트 처리(Text clearing, Tokenizing, Vectorization) 실습"
   ]
  },
  {
   "cell_type": "code",
   "execution_count": 1,
   "id": "3df2f80e-993b-48d9-a92c-3b974dc9aa83",
   "metadata": {},
   "outputs": [],
   "source": [
    "import requests\n",
    "import urllib3\n",
    "import json\n",
    "\n",
    "from bs4 import BeautifulSoup"
   ]
  },
  {
   "cell_type": "code",
   "execution_count": 2,
   "id": "e6a8cc37-74a1-4046-b0b5-e161ba407e36",
   "metadata": {},
   "outputs": [],
   "source": [
    "def get_html(url, encoding='UTF-8') :\n",
    "    r = requests.get(url, headers = None, timeout = 3.0)\n",
    "    r.encoding = encoding\n",
    "    return r.text\n",
    "\n",
    "def get_soup(url, encoding='UTF-8') :\n",
    "    return BeautifulSoup(get_html(url, encoding), \"html\")"
   ]
  },
  {
   "cell_type": "code",
   "execution_count": 3,
   "id": "2e242b8b-bd8d-4b75-8cad-f9c6803ddd73",
   "metadata": {},
   "outputs": [],
   "source": [
    "#t1 -> https://news.v.daum.net/v/20210902132102417\n",
    "#t2 -> https://news.v.daum.net/v/20210902060009685\n",
    "s = get_soup(\"https://news.v.daum.net/v/20210902132102417\")\n",
    "test_doc = s.find(\"div\", {\"class\" : \"news_view\"}).text.strip()"
   ]
  },
  {
   "cell_type": "code",
   "execution_count": 5,
   "id": "d9b53ea0-70b5-42c9-8043-a1798d311c47",
   "metadata": {},
   "outputs": [
    {
     "name": "stdout",
     "output_type": "stream",
     "text": [
      "김한정 의원 \"4년만에 88.2% 증가..감독당국 선제적 대응해야\" \n",
      "\n",
      "\n",
      "\n",
      "\n",
      "\n",
      "            자료=금융감독원\n",
      "           \n",
      "\n",
      "\n",
      "            [쿠키뉴스] 유수환 기자 = 2일 국회 정무위원회 소속 더불어민주당 김한정 의원은 부동산 PF대출이 빠른 속도로 증가하고 있어 금융 불안을 초래할 위험이 커지고 있다며 감독당국에 보다 적극적인 위험 관리대책을 주문했다.\n",
      "          \n",
      "금융감독원에 따르면 지난해 말 국내 금융권의 부동산 PF대출 잔액은 88조4,838억원으로 2016년말 (47조256억원)에 대비 4년만에 41조4582억원(88.2%) 증가했다. 부동산 PF대출 급증은 부동산경기 호조가 주된 배경이지만 코로나 영향으로 해외 대체투자가 어려운점(보험사), 부동산 직접투자 제한 영향(여전사, 보험사) 등도 증가 요인이다.\n",
      "금융권역별로는 보험사가 36조3826억원으로 가장 많고 은행이 23조8572억원, 저축은행 6조 8647억원, 증권사 4조2691억원, 상호금융 3조3105억원 순이다.\n",
      "부동산 PF대출 가운데 고정금리 비중은 79.2%였는데, 저축은행이 97.6%로 가장 높았고, 보험사 79.9%, 여전사 72.3%, 상호금융 61.0% 순이었다. 부동산 PF대출의 금리는 보험사가 평균 3.24%로 가장 낮았고, 상호금융 3.47%, 여전사 4.59%, 증권사 5.78%, 저축은행 6.91% 순이었다.\n",
      "다만 아직 리스크에 노출되지는 않았다. 부동산 PF대출의 연체율은 전업권이 0.49%로 2016년 2.4%에 비해 대폭 하락했다. 고정이하 여신 잔액도 6,472억원으로 2016년말 1조 9,595억원 대비 큰 폭으로 감소했다.\n",
      "김한정 의원은 “부동산시장의 활황세를 등에 업고 부동산 PF대출이 급속히 증가하고 있다. 부동산 PF대출의 연체율이나 부실여신 잔액이 줄어드는 등 외관상으로는 문제가 없는 것으로 보이지만 부동산 PF대출의 잠재적 위험을 사전에 예방하는 것이 중요하다”고 강조했다.\n",
      "이어 “부동산 경기활황시 PF대출을 늘렸다 부동산 경기침체로 파산한 부산저축은행 사태도 있었다”며 “감독당국은 부동산 PF대출에 대해 보다 적극적인 위험관리대책을 마련하여 부동산시장과 금융시장의 안정을 도모해야 할 것”이라고 촉구했다.\n",
      "shwan9@kukinews.com\n",
      "\n",
      "갓 구워낸 바삭바삭한 뉴스 ⓒ 쿠키뉴스(www.kukinews.com), 무단전재 및 재배포금지\n"
     ]
    }
   ],
   "source": [
    "print(test_doc)"
   ]
  },
  {
   "cell_type": "markdown",
   "id": "9cf17931-cadd-4daf-bc41-c3089075e2f3",
   "metadata": {},
   "source": [
    "## 1. Text Clearing\n",
    "\n",
    "정규표현식을 사용해서 텍스트에 필요없는 부분 제거\n",
    "\n",
    "html에서 텍스트를 추출해서 문장 단위로 쪼개는 과정"
   ]
  },
  {
   "cell_type": "code",
   "execution_count": 19,
   "id": "de6fc283-7eb0-457f-b094-5ecb69d78f03",
   "metadata": {},
   "outputs": [],
   "source": [
    "import re, os, math\n",
    "import collections\n",
    "\n",
    "from collections import Counter\n",
    "\n",
    "doublespace_pattern = re.compile(u\"\\s+\", re.UNICODE)\n",
    "bracket_pattern = re.compile(r\"\\([^()]*?\\)|\\[.*?\\]|\\<.*?\\>|\\{.*?\\}|\\【.*?】|\\(.*?\\(.*?\\).*?\\)\")\n",
    "junk_filter = re.compile(u\"^[a-zA-Z0-9?><;,.{}()[\\]\\-_+=!@#$%\\^&*|/\\n\\t\\s']{8,}\", re.UNICODE)\n",
    "head_filter = re.compile(u\"[ㄱ-ㅎㅏ-ㅣ가-힣a-zA-Z0-9\\.\\?\\!\\s]+= \", re.UNICODE)\n",
    "text_filter = re.compile(u'[^ㄱ-ㅎㅏ-ㅣ가-힣a-zA-Z0-9\\.\\?\\!-%]', re.UNICODE)\n",
    "delete_filter = re.compile(r\"[\\'\\\"″“”‘’\\?\\!,…▲△□■※☆★▷▶▽▼『』#○●☆★＃◇◆ㅁ]\")\n",
    "space_filter = re.compile(r\"[*·…‥♡♥\\:=]|\\.{2}\")"
   ]
  },
  {
   "cell_type": "code",
   "execution_count": 20,
   "id": "7e85ef3c-b948-4931-81a9-6d75caeef3ea",
   "metadata": {},
   "outputs": [],
   "source": [
    "def only_text(text):\n",
    "    return doublespace_pattern.sub(' ',text_filter.sub(' ', text)).strip()\n",
    "\n",
    "def text_clearing(text):\n",
    "    return doublespace_pattern.sub(' ', space_filter.sub(' ', delete_filter.sub('', text))).strip()\n",
    "\n",
    "def clear_bracket_regex(text):\n",
    "    return bracket_pattern.sub(\"\", text)\n",
    "        \n",
    "def xplit(value, delimiters = []):\n",
    "    if not delimiters :\n",
    "        return value.split()\n",
    "    return re.split('|'.join([re.escape(delimiter) for delimiter in delimiters]), value)"
   ]
  },
  {
   "cell_type": "code",
   "execution_count": 8,
   "id": "9791db51-63ef-43fe-b36e-83c72f5bf153",
   "metadata": {
    "tags": []
   },
   "outputs": [
    {
     "data": {
      "text/plain": [
       "'김한정 의원 \"4년만에 88.2% 증가..감독당국 선제적 대응해야\" 자료 금융감독원 쿠키뉴스 유수환 기자 2일 국회 정무위원회 소속 더불어민주당 김한정 의원은 부동산 PF대출이 빠른 속도로 증가하고 있어 금융 불안을 초래할 위험이 커지고 있다며 감독당국에 보다 적극적인 위험 관리대책을 주문했다. 금융감독원에 따르면 지난해 말 국내 금융권의 부동산 PF대출 잔액은 88조4 838억원으로 2016년말 47조256억원 에 대비 4년만에 41조4582억원 88.2% 증가했다. 부동산 PF대출 급증은 부동산경기 호조가 주된 배경이지만 코로나 영향으로 해외 대체투자가 어려운점 보험사 부동산 직접투자 제한 영향 여전사 보험사 등도 증가 요인이다. 금융권역별로는 보험사가 36조3826억원으로 가장 많고 은행이 23조8572억원 저축은행 6조 8647억원 증권사 4조2691억원 상호금융 3조3105억원 순이다. 부동산 PF대출 가운데 고정금리 비중은 79.2%였는데 저축은행이 97.6%로 가장 높았고 보험사 79.9% 여전사 72.3% 상호금융 61.0% 순이었다. 부동산 PF대출의 금리는 보험사가 평균 3.24%로 가장 낮았고 상호금융 3.47% 여전사 4.59% 증권사 5.78% 저축은행 6.91% 순이었다. 다만 아직 리스크에 노출되지는 않았다. 부동산 PF대출의 연체율은 전업권이 0.49%로 2016년 2.4%에 비해 대폭 하락했다. 고정이하 여신 잔액도 6 472억원으로 2016년말 1조 9 595억원 대비 큰 폭으로 감소했다. 김한정 의원은 부동산시장의 활황세를 등에 업고 부동산 PF대출이 급속히 증가하고 있다. 부동산 PF대출의 연체율이나 부실여신 잔액이 줄어드는 등 외관상으로는 문제가 없는 것으로 보이지만 부동산 PF대출의 잠재적 위험을 사전에 예방하는 것이 중요하다 고 강조했다. 이어 부동산 경기활황시 PF대출을 늘렸다 부동산 경기침체로 파산한 부산저축은행 사태도 있었다 며 감독당국은 부동산 PF대출에 대해 보다 적극적인 위험관리대책을 마련하여 부동산시장과 금융시장의 안정을 도모해야 할 것 이라고 촉구했다. shwan9 kukinews.com 갓 구워낸 바삭바삭한 뉴스 쿠키뉴스 www.kukinews.com 무단전재 및 재배포금지'"
      ]
     },
     "execution_count": 8,
     "metadata": {},
     "output_type": "execute_result"
    }
   ],
   "source": [
    "only_text(test_doc)"
   ]
  },
  {
   "cell_type": "code",
   "execution_count": 9,
   "id": "cf9b10f6-b21d-4aef-a831-e265fe1e45e8",
   "metadata": {
    "tags": []
   },
   "outputs": [
    {
     "data": {
      "text/plain": [
       "'김한정 의원 4년만에 882% 증가감독당국 선제적 대응해야 자료 금융감독원 [쿠키뉴스] 유수환 기자 2일 국회 정무위원회 소속 더불어민주당 김한정 의원은 부동산 PF대출이 빠른 속도로 증가하고 있어 금융 불안을 초래할 위험이 커지고 있다며 감독당국에 보다 적극적인 위험 관리대책을 주문했다 금융감독원에 따르면 지난해 말 국내 금융권의 부동산 PF대출 잔액은 88조4838억원으로 2016년말 (47조256억원)에 대비 4년만에 41조4582억원(882%) 증가했다 부동산 PF대출 급증은 부동산경기 호조가 주된 배경이지만 코로나 영향으로 해외 대체투자가 어려운점(보험사) 부동산 직접투자 제한 영향(여전사 보험사) 등도 증가 요인이다 금융권역별로는 보험사가 36조3826억원으로 가장 많고 은행이 23조8572억원 저축은행 6조 8647억원 증권사 4조2691억원 상호금융 3조3105억원 순이다 부동산 PF대출 가운데 고정금리 비중은 792%였는데 저축은행이 976%로 가장 높았고 보험사 799% 여전사 723% 상호금융 610% 순이었다 부동산 PF대출의 금리는 보험사가 평균 324%로 가장 낮았고 상호금융 347% 여전사 459% 증권사 578% 저축은행 691% 순이었다 다만 아직 리스크에 노출되지는 않았다 부동산 PF대출의 연체율은 전업권이 049%로 2016년 24%에 비해 대폭 하락했다 고정이하 여신 잔액도 6472억원으로 2016년말 1조 9595억원 대비 큰 폭으로 감소했다 김한정 의원은 부동산시장의 활황세를 등에 업고 부동산 PF대출이 급속히 증가하고 있다 부동산 PF대출의 연체율이나 부실여신 잔액이 줄어드는 등 외관상으로는 문제가 없는 것으로 보이지만 부동산 PF대출의 잠재적 위험을 사전에 예방하는 것이 중요하다고 강조했다 이어 부동산 경기활황시 PF대출을 늘렸다 부동산 경기침체로 파산한 부산저축은행 사태도 있었다며 감독당국은 부동산 PF대출에 대해 보다 적극적인 위험관리대책을 마련하여 부동산시장과 금융시장의 안정을 도모해야 할 것이라고 촉구했다 shwan9@kukinewscom 갓 구워낸 바삭바삭한 뉴스 ⓒ 쿠키뉴스(wwwkukinewscom) 무단전재 및 재배포금지'"
      ]
     },
     "execution_count": 9,
     "metadata": {},
     "output_type": "execute_result"
    }
   ],
   "source": [
    "text_clearing(test_doc)"
   ]
  },
  {
   "cell_type": "code",
   "execution_count": 10,
   "id": "2005f42d-56ad-4587-a157-a0cb681db917",
   "metadata": {
    "collapsed": true,
    "jupyter": {
     "outputs_hidden": true
    },
    "tags": []
   },
   "outputs": [
    {
     "data": {
      "text/plain": [
       "'김한정 의원 \"4년만에 88.2% 증가..감독당국 선제적 대응해야\" \\n\\n\\n\\n\\n\\n            자료=금융감독원\\n           \\n\\n\\n             유수환 기자 = 2일 국회 정무위원회 소속 더불어민주당 김한정 의원은 부동산 PF대출이 빠른 속도로 증가하고 있어 금융 불안을 초래할 위험이 커지고 있다며 감독당국에 보다 적극적인 위험 관리대책을 주문했다.\\n          \\n금융감독원에 따르면 지난해 말 국내 금융권의 부동산 PF대출 잔액은 88조4,838억원으로 2016년말 에 대비 4년만에 41조4582억원 증가했다. 부동산 PF대출 급증은 부동산경기 호조가 주된 배경이지만 코로나 영향으로 해외 대체투자가 어려운점, 부동산 직접투자 제한 영향 등도 증가 요인이다.\\n금융권역별로는 보험사가 36조3826억원으로 가장 많고 은행이 23조8572억원, 저축은행 6조 8647억원, 증권사 4조2691억원, 상호금융 3조3105억원 순이다.\\n부동산 PF대출 가운데 고정금리 비중은 79.2%였는데, 저축은행이 97.6%로 가장 높았고, 보험사 79.9%, 여전사 72.3%, 상호금융 61.0% 순이었다. 부동산 PF대출의 금리는 보험사가 평균 3.24%로 가장 낮았고, 상호금융 3.47%, 여전사 4.59%, 증권사 5.78%, 저축은행 6.91% 순이었다.\\n다만 아직 리스크에 노출되지는 않았다. 부동산 PF대출의 연체율은 전업권이 0.49%로 2016년 2.4%에 비해 대폭 하락했다. 고정이하 여신 잔액도 6,472억원으로 2016년말 1조 9,595억원 대비 큰 폭으로 감소했다.\\n김한정 의원은 “부동산시장의 활황세를 등에 업고 부동산 PF대출이 급속히 증가하고 있다. 부동산 PF대출의 연체율이나 부실여신 잔액이 줄어드는 등 외관상으로는 문제가 없는 것으로 보이지만 부동산 PF대출의 잠재적 위험을 사전에 예방하는 것이 중요하다”고 강조했다.\\n이어 “부동산 경기활황시 PF대출을 늘렸다 부동산 경기침체로 파산한 부산저축은행 사태도 있었다”며 “감독당국은 부동산 PF대출에 대해 보다 적극적인 위험관리대책을 마련하여 부동산시장과 금융시장의 안정을 도모해야 할 것”이라고 촉구했다.\\nshwan9@kukinews.com\\n\\n갓 구워낸 바삭바삭한 뉴스 ⓒ 쿠키뉴스, 무단전재 및 재배포금지'"
      ]
     },
     "execution_count": 10,
     "metadata": {},
     "output_type": "execute_result"
    }
   ],
   "source": [
    "clear_bracket_regex(test_doc)"
   ]
  },
  {
   "cell_type": "code",
   "execution_count": 16,
   "id": "9fdaa334-ac77-4e43-9336-90fc0b3cb0c8",
   "metadata": {
    "collapsed": true,
    "jupyter": {
     "outputs_hidden": true
    },
    "tags": []
   },
   "outputs": [
    {
     "data": {
      "text/plain": [
       "['김한정 의원 \"4년만에 88.2% 증가..감독당국 선제적 대응해야\" ',\n",
       " '',\n",
       " '',\n",
       " '',\n",
       " '',\n",
       " '',\n",
       " '            자료=금융감독원',\n",
       " '           ',\n",
       " '',\n",
       " '',\n",
       " '            [쿠키뉴스] 유수환 기자 = 2일 국회 정무위원회 소속 더불어민주당 김한정 의원은 부동산 PF대출이 빠른 속도로 증가하고 있어 금융 불안을 초래할 위험이 커지고 있다며 감독당국에 보다 적극적인 위험 관리대책을 주문했다',\n",
       " '          ',\n",
       " '금융감독원에 따르면 지난해 말 국내 금융권의 부동산 PF대출 잔액은 88조4,838억원으로 2016년말 (47조256억원)에 대비 4년만에 41조4582억원(88.2%) 증가했다',\n",
       " '부동산 PF대출 급증은 부동산경기 호조가 주된 배경이지만 코로나 영향으로 해외 대체투자가 어려운점(보험사), 부동산 직접투자 제한 영향(여전사, 보험사) 등도 증가 요인이다',\n",
       " '금융권역별로는 보험사가 36조3826억원으로 가장 많고 은행이 23조8572억원, 저축은행 6조 8647억원, 증권사 4조2691억원, 상호금융 3조3105억원 순이다',\n",
       " '부동산 PF대출 가운데 고정금리 비중은 79.2%였는데, 저축은행이 97.6%로 가장 높았고, 보험사 79.9%, 여전사 72.3%, 상호금융 61.0% 순이었다',\n",
       " '부동산 PF대출의 금리는 보험사가 평균 3.24%로 가장 낮았고, 상호금융 3.47%, 여전사 4.59%, 증권사 5.78%, 저축은행 6.91% 순이었다',\n",
       " '다만 아직 리스크에 노출되지는 않았다',\n",
       " '부동산 PF대출의 연체율은 전업권이 0.49%로 2016년 2.4%에 비해 대폭 하락했다',\n",
       " '고정이하 여신 잔액도 6,472억원으로 2016년말 1조 9,595억원 대비 큰 폭으로 감소했다',\n",
       " '김한정 의원은 “부동산시장의 활황세를 등에 업고 부동산 PF대출이 급속히 증가하고 있다',\n",
       " '부동산 PF대출의 연체율이나 부실여신 잔액이 줄어드는 등 외관상으로는 문제가 없는 것으로 보이지만 부동산 PF대출의 잠재적 위험을 사전에 예방하는 것이 중요하다”고 강조했다',\n",
       " '이어 “부동산 경기활황시 PF대출을 늘렸다 부동산 경기침체로 파산한 부산저축은행 사태도 있었다”며 “감독당국은 부동산 PF대출에 대해 보다 적극적인 위험관리대책을 마련하여 부동산시장과 금융시장의 안정을 도모해야 할 것”이라고 촉구했다',\n",
       " 'shwan9@kukinews.com',\n",
       " '',\n",
       " '갓 구워낸 바삭바삭한 뉴스 ⓒ 쿠키뉴스(www.kukinews.com), 무단전재 및 재배포금지']"
      ]
     },
     "execution_count": 16,
     "metadata": {},
     "output_type": "execute_result"
    }
   ],
   "source": [
    "xplit(test_doc,['. ', '\\n', '.\\n'])"
   ]
  },
  {
   "cell_type": "code",
   "execution_count": 49,
   "id": "9b36eb62-fc73-40ca-b079-aafc53fbd9f7",
   "metadata": {},
   "outputs": [],
   "source": [
    "def sentence_prep(text):\n",
    "    cleared_sentences = []\n",
    "    cleared = xplit(clear_bracket_regex(text), ['. ', '\\n', '.\\n', '\\r\\n', '.\\r\\n'])\n",
    "    \n",
    "    for sentence in cleared :\n",
    "        if sentence and not junk_filter.match(sentence) :\n",
    "            cleared_sentences.append(re.sub(r\"[.]$\", \"\", text_clearing(sentence)))\n",
    "    return cleared_sentences"
   ]
  },
  {
   "cell_type": "code",
   "execution_count": 50,
   "id": "70c1b886-0997-4425-96c2-e69b974d71ff",
   "metadata": {},
   "outputs": [],
   "source": [
    "sents = sentence_prep(test_doc)"
   ]
  },
  {
   "cell_type": "code",
   "execution_count": 51,
   "id": "c3046c30-4019-4b5f-abb5-13d3f3b447ce",
   "metadata": {},
   "outputs": [
    {
     "data": {
      "text/plain": [
       "['김한정 의원 4년만에 88.2% 증가 감독당국 선제적 대응해야',\n",
       " '금융감독원에 따르면 지난해 말 국내 금융권의 부동산 PF대출 잔액은 88조4838억원으로 2016년말 에 대비 4년만에 41조4582억원 증가했다',\n",
       " '부동산 PF대출 급증은 부동산경기 호조가 주된 배경이지만 코로나 영향으로 해외 대체투자가 어려운점 부동산 직접투자 제한 영향 등도 증가 요인이다',\n",
       " '금융권역별로는 보험사가 36조3826억원으로 가장 많고 은행이 23조8572억원 저축은행 6조 8647억원 증권사 4조2691억원 상호금융 3조3105억원 순이다',\n",
       " '부동산 PF대출 가운데 고정금리 비중은 79.2%였는데 저축은행이 97.6%로 가장 높았고 보험사 79.9% 여전사 72.3% 상호금융 61.0% 순이었다',\n",
       " '부동산 PF대출의 금리는 보험사가 평균 3.24%로 가장 낮았고 상호금융 3.47% 여전사 4.59% 증권사 5.78% 저축은행 6.91% 순이었다',\n",
       " '다만 아직 리스크에 노출되지는 않았다',\n",
       " '부동산 PF대출의 연체율은 전업권이 0.49%로 2016년 2.4%에 비해 대폭 하락했다',\n",
       " '고정이하 여신 잔액도 6472억원으로 2016년말 1조 9595억원 대비 큰 폭으로 감소했다',\n",
       " '김한정 의원은 부동산시장의 활황세를 등에 업고 부동산 PF대출이 급속히 증가하고 있다',\n",
       " '부동산 PF대출의 연체율이나 부실여신 잔액이 줄어드는 등 외관상으로는 문제가 없는 것으로 보이지만 부동산 PF대출의 잠재적 위험을 사전에 예방하는 것이 중요하다고 강조했다',\n",
       " '이어 부동산 경기활황시 PF대출을 늘렸다 부동산 경기침체로 파산한 부산저축은행 사태도 있었다며 감독당국은 부동산 PF대출에 대해 보다 적극적인 위험관리대책을 마련하여 부동산시장과 금융시장의 안정을 도모해야 할 것이라고 촉구했다',\n",
       " '갓 구워낸 바삭바삭한 뉴스 ⓒ 쿠키뉴스 무단전재 및 재배포금지']"
      ]
     },
     "execution_count": 51,
     "metadata": {},
     "output_type": "execute_result"
    }
   ],
   "source": [
    "sents"
   ]
  },
  {
   "cell_type": "markdown",
   "id": "b284beb1-c5cd-4383-9c6e-b61cf7b1fdb6",
   "metadata": {},
   "source": [
    "## 2. 토크나이징\n",
    "\n",
    "각 문장들을 의미 단위(형태소)로 쪼개는 과정\n",
    "\n",
    "토큰을 활용하여 문서를 BOW(Bag of Words)로 표현하기"
   ]
  },
  {
   "cell_type": "code",
   "execution_count": 28,
   "id": "3105a768-36c2-4707-911a-45fa802ded31",
   "metadata": {},
   "outputs": [],
   "source": [
    "from konlpy.tag import Okt, Kkma, Komoran\n",
    "\n",
    "okt = Okt() # tag가 가장 작음\n",
    "kkma = Kkma()\n",
    "komo = Komoran()"
   ]
  },
  {
   "cell_type": "code",
   "execution_count": 52,
   "id": "c778a863-cdca-4c60-a774-e031a793b6b2",
   "metadata": {},
   "outputs": [
    {
     "name": "stdout",
     "output_type": "stream",
     "text": [
      "['금융감독원', '에', '따르면', '지난해', '말', '국내', '금융', '권', '의', '부동산', 'PF', '대출', '잔액', '은', '88조', '4838억원', '으로', '2016년', '말', '에', '대비', '4년', '만에', '41조', '4582억원', '증가', '했다']\n"
     ]
    }
   ],
   "source": [
    "print(okt.morphs(sents[1]))"
   ]
  },
  {
   "cell_type": "code",
   "execution_count": 53,
   "id": "ad4159ea-34ac-46df-8e07-9d32c15a0986",
   "metadata": {},
   "outputs": [
    {
     "name": "stdout",
     "output_type": "stream",
     "text": [
      "['금융', '감독원', '에', '따르', '면', '지난해', '말', '국내', '금융권', '의', '부동산', 'PF', '대출', '잔액', '은', '88', '조', '4838', '억', '원', '으로', '2016', '년', '말', '에', '대비', '4', '년', '만', '에', '41', '조', '4582', '억', '원', '증가', '하', '었', '다']\n"
     ]
    }
   ],
   "source": [
    "print(kkma.morphs(sents[1]))"
   ]
  },
  {
   "cell_type": "code",
   "execution_count": 34,
   "id": "5bf4f4e7-6a90-4d97-ae6c-40b5cbf950d1",
   "metadata": {},
   "outputs": [
    {
     "name": "stdout",
     "output_type": "stream",
     "text": [
      "['금융감독원', '지난해', '말', '국내', '금융', '부동산', '대출', '잔액', '대비', '증가']\n"
     ]
    }
   ],
   "source": [
    "print(okt.nouns(sents[1]))"
   ]
  },
  {
   "cell_type": "code",
   "execution_count": 37,
   "id": "ce9acef8-3663-443e-bafe-a3b5dc7110d7",
   "metadata": {},
   "outputs": [
    {
     "name": "stdout",
     "output_type": "stream",
     "text": [
      "[('금융감독원', 'Noun'), ('에', 'Josa'), ('따르면', 'Verb'), ('지난해', 'Noun'), ('말', 'Noun'), ('국내', 'Noun'), ('금융', 'Noun'), ('권', 'Suffix'), ('의', 'Josa'), ('부동산', 'Noun'), ('PF', 'Alpha'), ('대출', 'Noun'), ('잔액', 'Noun'), ('은', 'Josa'), ('88조', 'Number'), ('4838억원', 'Number'), ('으로', 'Foreign'), ('2016년', 'Number'), ('말', 'Foreign'), ('에', 'Josa'), ('대비', 'Noun'), ('4년', 'Number'), ('만에', 'Foreign'), ('41조', 'Number'), ('4582억원', 'Number'), ('증가', 'Noun'), ('했다', 'Verb')]\n"
     ]
    }
   ],
   "source": [
    "print(okt.pos(sents[1]))"
   ]
  },
  {
   "cell_type": "code",
   "execution_count": 39,
   "id": "f27d907e-3e1f-4e2c-a41f-54109de17f45",
   "metadata": {},
   "outputs": [
    {
     "data": {
      "text/plain": [
       "{'Adjective': '형용사',\n",
       " 'Adverb': '부사',\n",
       " 'Alpha': '알파벳',\n",
       " 'Conjunction': '접속사',\n",
       " 'Determiner': '관형사',\n",
       " 'Eomi': '어미',\n",
       " 'Exclamation': '감탄사',\n",
       " 'Foreign': '외국어, 한자 및 기타기호',\n",
       " 'Hashtag': '트위터 해쉬태그',\n",
       " 'Josa': '조사',\n",
       " 'KoreanParticle': '(ex: ㅋㅋ)',\n",
       " 'Noun': '명사',\n",
       " 'Number': '숫자',\n",
       " 'PreEomi': '선어말어미',\n",
       " 'Punctuation': '구두점',\n",
       " 'ScreenName': '트위터 아이디',\n",
       " 'Suffix': '접미사',\n",
       " 'Unknown': '미등록어',\n",
       " 'Verb': '동사'}"
      ]
     },
     "execution_count": 39,
     "metadata": {},
     "output_type": "execute_result"
    }
   ],
   "source": [
    "okt.tagset"
   ]
  },
  {
   "cell_type": "code",
   "execution_count": 54,
   "id": "3215583c-7524-4dd4-bac8-f6141ce5b6ba",
   "metadata": {},
   "outputs": [
    {
     "name": "stdout",
     "output_type": "stream",
     "text": [
      "['금융감독원', '따르면', '지난해', '국내', '금융', '부동산', 'PF', '대출', '잔액', '대비', '증가', '했다']\n"
     ]
    }
   ],
   "source": [
    "from konlpy.tag import Okt\n",
    "\n",
    "pos_set = ['Noun', 'Verb', 'Alpha']\n",
    "\n",
    "def selected_tokenizer(sent, pos = pos_set) :\n",
    "    t = Okt()\n",
    "    return [x[0] for x in t.pos(sent) if len(x[0]) > 1 and x[1] in pos]\n",
    "\n",
    "print(selected_tokenizer(sents[1]))"
   ]
  },
  {
   "cell_type": "code",
   "execution_count": 43,
   "id": "9ce7403a-ad49-4157-b88f-f97abec7e779",
   "metadata": {},
   "outputs": [
    {
     "name": "stdout",
     "output_type": "stream",
     "text": [
      "[['김한정', '의원', '증가', '감독', '당국', '선제', '대응', '해야'], ['금융감독원', '따르면', '지난해', '국내', '금융', '부동산', 'PF', '대출', '잔액', '대비', '증가', '했다'], ['부동산', 'PF', '대출', '급증', '부동산', '경기', '호조', '배경', '코로나', '영향', '해외', '대체', '투자가', '부동산', '직접투자', '제한', '영향', '증가', '요인'], ['금융', '별로', '보험사', '가장', '은행', '저축은행', '증권사', '상호금융', '순이'], ['부동산', 'PF', '대출', '가운데', '고정', '금리', '비중', '였는데', '저축은행', '가장', '보험사', '전사', '상호금융', '이었다'], ['부동산', 'PF', '대출', '금리', '보험사', '평균', '가장', '상호금융', '전사', '증권사', '저축은행', '이었다'], ['다만', '리스크', '노출', '되지는', '않았다'], ['부동산', 'PF', '대출', '연체', '전업', '비해', '대폭', '하락', '했다'], ['고정', '이하', '여신', '잔액', '대비', '감소', '했다'], ['김한정', '의원', '부동산', '시장', '활황', '업고', '부동산', 'PF', '대출', '증가'], ['부동산', 'PF', '대출', '연체', '부실', '여신', '잔액', '줄어드는', '외관', '문제', '보이', '부동산', 'PF', '대출', '잠재', '위험', '사전', '예방', '하는', '강조', '했다'], ['이어', '부동산', '경기', '활황', 'PF', '대출', '늘렸다', '부동산', '침체', '부산', '저축은행', '사태', '감독', '당국', '부동산', 'PF', '대출', '대해', '보다', '적극', '위험관리', '대책', '마련', '하여', '부동산', '시장', '금융시장', '안정', '도모', '해야', '촉구', '했다'], ['구워', '뉴스', '쿠키뉴스', '무단', '배포', '금지']]\n"
     ]
    }
   ],
   "source": [
    "tokens = [selected_tokenizer(x) for x in sents]\n",
    "print(tokens)"
   ]
  },
  {
   "cell_type": "code",
   "execution_count": 94,
   "id": "456a5b1f-ea35-4ffd-bd88-7c6843cf354f",
   "metadata": {},
   "outputs": [],
   "source": [
    "from collections import Counter\n",
    "\n",
    "token_all = [x for token in tokens for x in token] #list of list -> list\n",
    "c = Counter()\n",
    "c.update(token_all) #Counter에 list 추가 "
   ]
  },
  {
   "cell_type": "code",
   "execution_count": 95,
   "id": "d9fed424-32d9-4cc7-a60b-f88df5f8af4a",
   "metadata": {},
   "outputs": [
    {
     "data": {
      "text/plain": [
       "[('부동산', 15),\n",
       " ('PF', 10),\n",
       " ('대출', 10),\n",
       " ('했다', 5),\n",
       " ('증가', 4),\n",
       " ('저축은행', 4),\n",
       " ('잔액', 3),\n",
       " ('보험사', 3),\n",
       " ('가장', 3),\n",
       " ('상호금융', 3)]"
      ]
     },
     "execution_count": 95,
     "metadata": {},
     "output_type": "execute_result"
    }
   ],
   "source": [
    "#BOW <- Term Frequency\n",
    "c.most_common(10)"
   ]
  },
  {
   "cell_type": "markdown",
   "id": "89c14696-565c-49be-94bd-a6c9d2e2d4fd",
   "metadata": {},
   "source": [
    "## 3. Vectorization\n",
    "\n",
    "문서 set을 모두 bow로 만든 다음 matrix로 문서 set을 표현\n",
    "* 행(row)은 각 문서를 의미 -> 문서의 벡터화\n",
    "* 열(column)은 각 단어들로 이루어진 차원\n",
    "* TfIdf(Term frequency - Inverse document frequency)\n",
    "  * idf 식 설명 : https://wikidocs.net/31698"
   ]
  },
  {
   "cell_type": "code",
   "execution_count": 116,
   "id": "0520c3f9-043d-4699-87b2-aef920bca8e2",
   "metadata": {},
   "outputs": [],
   "source": [
    "from sklearn.feature_extraction import DictVectorizer # 딕셔너리로 넣으면 벡터화\n",
    "from sklearn.feature_extraction.text import CountVectorizer, TfidfVectorizer  # 리스트 of 리스트로 넣으면 벡터화\n",
    "\n",
    "def bow2vec(bow_list) :\n",
    "    '''\n",
    "    input : a list of bow lists\n",
    "    output : vectors\n",
    "    '''\n",
    "    data_bow = []\n",
    "    for item in bow_list :\n",
    "        c = Counter()\n",
    "        c.update(item)\n",
    "        data_bow.append(c)\n",
    "    vectorizer = DictVectorizer()\n",
    "    X = vectorizer.fit_transform(data_bow)\n",
    "    features = vectorizer.get_feature_names()\n",
    "\n",
    "    return X, features\n",
    "\n",
    "def bow2tfidfvec(bow_list) :\n",
    "    '''\n",
    "    input : a list of bow lists\n",
    "    output : vectors\n",
    "    '''\n",
    "    data_bow = []\n",
    "    for item in bow_list :\n",
    "        data_bow.append(\" \".join(item))\n",
    "    tfidfvectorizer = TfidfVectorizer()\n",
    "    X = tfidfvectorizer.fit_transform(data_bow)\n",
    "    features = tfidfvectorizer.get_feature_names()\n",
    "\n",
    "    return X, features"
   ]
  },
  {
   "cell_type": "code",
   "execution_count": 118,
   "id": "c9adb202-6efc-4caa-9e56-7b9cfbdc44aa",
   "metadata": {},
   "outputs": [],
   "source": [
    "tfvec, features_tf = bow2vec(tokens)\n",
    "tfidfvec, features_tfidf = bow2tfidfvec(tokens)"
   ]
  },
  {
   "cell_type": "code",
   "execution_count": 119,
   "id": "6e69307c-7c06-4d95-822a-a68f33a0abcb",
   "metadata": {},
   "outputs": [
    {
     "name": "stdout",
     "output_type": "stream",
     "text": [
      "13 , 96\n",
      "(13, 96)\n"
     ]
    }
   ],
   "source": [
    "print(len(tokens), ',' ,len(c))\n",
    "print(tfvec.shape)"
   ]
  },
  {
   "cell_type": "code",
   "execution_count": 120,
   "id": "1021df5d-94ec-494e-b71a-ed32980eddad",
   "metadata": {},
   "outputs": [
    {
     "name": "stdout",
     "output_type": "stream",
     "text": [
      "  (0, 3)\t1.0\n",
      "  (0, 16)\t1.0\n",
      "  (0, 21)\t1.0\n",
      "  (0, 23)\t1.0\n",
      "  (0, 50)\t1.0\n",
      "  (0, 66)\t1.0\n",
      "  (0, 78)\t1.0\n",
      "  (0, 91)\t1.0\n",
      "  (0, 91)\t0.3465285489529673\n",
      "  (0, 23)\t0.40183588026661626\n",
      "  (0, 50)\t0.40183588026661626\n",
      "  (0, 21)\t0.3465285489529673\n",
      "  (0, 3)\t0.3465285489529673\n",
      "  (0, 78)\t0.2768495520376762\n",
      "  (0, 66)\t0.3465285489529673\n",
      "  (0, 16)\t0.3465285489529673\n"
     ]
    }
   ],
   "source": [
    "print(tfvec[0])\n",
    "print(tfidfvec[0])"
   ]
  },
  {
   "cell_type": "code",
   "execution_count": 125,
   "id": "9708c69a-ec84-4419-a3d1-4ec929f64411",
   "metadata": {},
   "outputs": [
    {
     "name": "stdout",
     "output_type": "stream",
     "text": [
      "PF pf\n"
     ]
    }
   ],
   "source": [
    "#DictVectorizer, TfidfVectorizer 둘의 feature 차이 비교\n",
    "#영문 표현 방식 외 단어 idx 순서는 같음\n",
    "for a, b in zip(features_tf, features_tfidf) :\n",
    "    if a != b :\n",
    "        print(a, b)"
   ]
  },
  {
   "cell_type": "code",
   "execution_count": 161,
   "id": "bdc6e884-11e4-4809-90fe-22456a8fd77e",
   "metadata": {},
   "outputs": [
    {
     "data": {
      "text/plain": [
       "['pf', '가운데', '가장', '감독', '감소', '강조', '경기', '고정', '구워', '국내']"
      ]
     },
     "execution_count": 161,
     "metadata": {},
     "output_type": "execute_result"
    }
   ],
   "source": [
    "#features 단어 일부 확인\n",
    "features_tfidf[:10]"
   ]
  },
  {
   "cell_type": "code",
   "execution_count": 157,
   "id": "b9cc95b3-4e5b-4d14-ac1f-1270a730072c",
   "metadata": {},
   "outputs": [
    {
     "data": {
      "text/plain": [
       "<1x96 sparse matrix of type '<class 'numpy.float64'>'\n",
       "\twith 8 stored elements in Compressed Sparse Row format>"
      ]
     },
     "execution_count": 157,
     "metadata": {},
     "output_type": "execute_result"
    }
   ],
   "source": [
    "#Vectorizer 학습된 Matrix는 Scipy의 csr_matrix 형태로 저장되어 있음\n",
    "tfidfvec[0]"
   ]
  },
  {
   "cell_type": "code",
   "execution_count": 146,
   "id": "9e78595b-9d11-4d33-a848-17541c13230c",
   "metadata": {},
   "outputs": [
    {
     "name": "stdout",
     "output_type": "stream",
     "text": [
      "[91 23 50 21  3 78 66 16]\n",
      "[0.34652855 0.40183588 0.40183588 0.34652855 0.34652855 0.27684955\n",
      " 0.34652855 0.34652855]\n"
     ]
    }
   ],
   "source": [
    "#0번 문서의 단어 리스트 및 vector값 확인\n",
    "print(tfidfvec[0].indices)\n",
    "print(tfidfvec[0].data)"
   ]
  },
  {
   "cell_type": "code",
   "execution_count": 147,
   "id": "a66d2a5c-1c3b-426d-b289-e4eb86cf2e9d",
   "metadata": {},
   "outputs": [
    {
     "data": {
      "text/plain": [
       "array([[0.        , 0.        , 0.        , 0.34652855, 0.        ,\n",
       "        0.        , 0.        , 0.        , 0.        , 0.        ,\n",
       "        0.        , 0.        , 0.        , 0.        , 0.        ,\n",
       "        0.        , 0.34652855, 0.        , 0.        , 0.        ,\n",
       "        0.        , 0.34652855, 0.        , 0.40183588, 0.        ,\n",
       "        0.        , 0.        , 0.        , 0.        , 0.        ,\n",
       "        0.        , 0.        , 0.        , 0.        , 0.        ,\n",
       "        0.        , 0.        , 0.        , 0.        , 0.        ,\n",
       "        0.        , 0.        , 0.        , 0.        , 0.        ,\n",
       "        0.        , 0.        , 0.        , 0.        , 0.        ,\n",
       "        0.40183588, 0.        , 0.        , 0.        , 0.        ,\n",
       "        0.        , 0.        , 0.        , 0.        , 0.        ,\n",
       "        0.        , 0.        , 0.        , 0.        , 0.        ,\n",
       "        0.        , 0.34652855, 0.        , 0.        , 0.        ,\n",
       "        0.        , 0.        , 0.        , 0.        , 0.        ,\n",
       "        0.        , 0.        , 0.        , 0.27684955, 0.        ,\n",
       "        0.        , 0.        , 0.        , 0.        , 0.        ,\n",
       "        0.        , 0.        , 0.        , 0.        , 0.        ,\n",
       "        0.        , 0.34652855, 0.        , 0.        , 0.        ,\n",
       "        0.        ]])"
      ]
     },
     "execution_count": 147,
     "metadata": {},
     "output_type": "execute_result"
    }
   ],
   "source": [
    "#sparse matrix -> 일반(dense) matrix로 변환\n",
    "tfidfvec[0].toarray()"
   ]
  },
  {
   "cell_type": "code",
   "execution_count": 162,
   "id": "fa22444a-a851-4865-b621-6f073d6c0fc5",
   "metadata": {
    "tags": []
   },
   "outputs": [
    {
     "data": {
      "text/plain": [
       "[(91, '해야', 0.3465285489529673),\n",
       " (23, '대응', 0.40183588026661626),\n",
       " (50, '선제', 0.40183588026661626),\n",
       " (21, '당국', 0.3465285489529673),\n",
       " (3, '감독', 0.3465285489529673),\n",
       " (78, '증가', 0.2768495520376762),\n",
       " (66, '의원', 0.3465285489529673),\n",
       " (16, '김한정', 0.3465285489529673)]"
      ]
     },
     "execution_count": 162,
     "metadata": {},
     "output_type": "execute_result"
    }
   ],
   "source": [
    "#(단어 idx, 단어, tfidf) 값으로 문서를 저장\n",
    "words = {}\n",
    "for e, item in enumerate(tfidfvec) :\n",
    "    words[e] = []\n",
    "    for idx, val in zip(item.indices, item.data) :\n",
    "        words[e].append((idx, features_tfidf[idx] ,val))\n",
    "words[0]"
   ]
  },
  {
   "cell_type": "code",
   "execution_count": 154,
   "id": "5c684a2d-d9b9-44fd-822b-e53393dcc6a6",
   "metadata": {},
   "outputs": [
    {
     "name": "stdout",
     "output_type": "stream",
     "text": [
      "0 - [(23, '대응', 0.40183588026661626), (50, '선제', 0.40183588026661626)]\n",
      "1 - [(9, '국내', 0.3613465483633835), (80, '지난해', 0.3613465483633835)]\n",
      "2 - [(59, '영향', 0.47333657195458456), (42, '부동산', 0.3475015213113972)]\n",
      "3 - [(51, '순이', 0.3858632539920651), (65, '은행', 0.3858632539920651)]\n",
      "4 - [(58, '였는데', 0.3347810487425642), (45, '비중', 0.3347810487425642)]\n",
      "5 - [(87, '평균', 0.3800789860553179), (68, '이었다', 0.3277662000662475)]\n",
      "6 - [(54, '않았다', 0.447213595499958), (30, '되지는', 0.447213595499958)]\n",
      "7 - [(89, '하락', 0.413253801615047), (27, '대폭', 0.413253801615047)]\n",
      "8 - [(4, '감소', 0.4381495653859565), (69, '이하', 0.4381495653859565)]\n",
      "9 - [(55, '업고', 0.4121606488111609), (42, '부동산', 0.40345203525442114)]\n",
      "10 - [(5, '강조', 0.24738607361225384), (88, '하는', 0.24738607361225384)]\n",
      "11 - [(42, '부동산', 0.3762172900466852), (82, '촉구', 0.19216901739240796)]\n",
      "12 - [(14, '금지', 0.408248290463863), (37, '배포', 0.408248290463863)]\n"
     ]
    }
   ],
   "source": [
    "#문서에서 tfidf 높은 단어 순으로 출력\n",
    "for idx, keys in words.items() :\n",
    "    keys = sorted(keys, key = lambda x : -x[2])\n",
    "    print(idx, '-', keys[:2])"
   ]
  },
  {
   "cell_type": "code",
   "execution_count": null,
   "id": "00ba8825-6d8e-4eda-bfb1-848346031f08",
   "metadata": {},
   "outputs": [],
   "source": []
  }
 ],
 "metadata": {
  "kernelspec": {
   "display_name": "Python 3 (ipykernel)",
   "language": "python",
   "name": "python3"
  },
  "language_info": {
   "codemirror_mode": {
    "name": "ipython",
    "version": 3
   },
   "file_extension": ".py",
   "mimetype": "text/x-python",
   "name": "python",
   "nbconvert_exporter": "python",
   "pygments_lexer": "ipython3",
   "version": "3.9.7"
  }
 },
 "nbformat": 4,
 "nbformat_minor": 5
}
