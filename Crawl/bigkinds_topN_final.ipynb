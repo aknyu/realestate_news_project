{
 "cells": [
  {
   "cell_type": "code",
   "execution_count": 1,
   "id": "519ba9aa-57f6-4afb-8019-0070cba61972",
   "metadata": {},
   "outputs": [],
   "source": [
    "import pandas as pd\n",
    "import requests\n",
    "import time\n",
    "import json\n",
    "\n",
    "from bs4 import BeautifulSoup\n",
    "from datetime import datetime\n",
    "from dateutil.relativedelta import relativedelta"
   ]
  },
  {
   "cell_type": "markdown",
   "id": "d6ef24fb-4cbd-4dc1-8726-f2b4eed3b0e4",
   "metadata": {},
   "source": [
    "### 기본값 설정"
   ]
  },
  {
   "cell_type": "code",
   "execution_count": 2,
   "id": "e11069ae-8ced-4b76-91af-c9e193443245",
   "metadata": {},
   "outputs": [],
   "source": [
    "url = 'http://tools.kinds.or.kr:8888/topn_keyword'\n",
    "query = '부동산 AND 아파트'\n",
    "start_ymd = '2020-01-01'   #1일 단위로 설정\n",
    "end_ymd = '2021-09-01'     #1일 단위로 설정\n",
    "#return_from = 0\n",
    "#return_size = 100000 # 1만개까지 \n",
    "parsed_data = []"
   ]
  },
  {
   "cell_type": "markdown",
   "id": "5dd105fe-fbcf-49bb-93bd-fdc2c59c516c",
   "metadata": {},
   "source": [
    "### [get_ymd] 시작일부터 종료일까지의 날짜"
   ]
  },
  {
   "cell_type": "code",
   "execution_count": 3,
   "id": "84e64ed0-b61f-4487-93fd-9563512810c0",
   "metadata": {},
   "outputs": [],
   "source": [
    "def get_ymd(start_ymd, end_ymd) :\n",
    "    res = []\n",
    "    start = datetime.strptime(start_ymd, '%Y-%m-%d')\n",
    "    end = datetime.strptime(end_ymd, '%Y-%m-%d')\n",
    "    diff = (end.year - start.year) * 12 + (end.month  - start.month)\n",
    "    for i in range(int(diff/2)) :              \n",
    "        res.append(datetime.strftime(start + relativedelta(months = 2*i), '%Y-%m-%d'))\n",
    "    return res"
   ]
  },
  {
   "cell_type": "markdown",
   "id": "b30d315b-ecb5-4122-8d98-d7128e297916",
   "metadata": {},
   "source": [
    "### [get_data] json형식으로 data 가져오기"
   ]
  },
  {
   "cell_type": "code",
   "execution_count": 4,
   "id": "698b1e8e-97b0-4b3a-93cc-8d4169a9269d",
   "metadata": {},
   "outputs": [],
   "source": [
    "def get_data(url) :\n",
    "    params = {\n",
    "        \"access_key\": \"cef63bff-8972-4140-82b6-2be184378ccc\",\n",
    "        \"argument\": {\n",
    "            \"published_at\": {\n",
    "                \"from\": start_ymd,\n",
    "                \"until\": end_ymd\n",
    "            },\n",
    "            \"query\": query\n",
    "        }\n",
    "    }\n",
    "\n",
    "    headers = {'User-Agent' : 'Mozilla/5.0 (Windows NT 10.0; Win64; x64) AppleWebKit/537.36 (KHTML, like Gecko) Chrome/92.0.4515.159 Safari/537.36'}    \n",
    "\n",
    "    r = requests.post(url, json=params, headers=headers)\n",
    "    results = r.json()\n",
    "    return results['return_object']['result']"
   ]
  },
  {
   "cell_type": "markdown",
   "id": "e3380ddb-3f60-45f1-92ef-d61724d4facc",
   "metadata": {},
   "source": [
    "### [parse_result] 데이터 파싱"
   ]
  },
  {
   "cell_type": "code",
   "execution_count": 5,
   "id": "04d13c8b-43fc-45e9-8ba3-002b1d1dfa99",
   "metadata": {},
   "outputs": [],
   "source": [
    "def parse_result(result) :\n",
    "    rank = result.get('rank')\n",
    "    name = result.get('name')\n",
    "    content = result.get('content')\n",
    "\n",
    "    \n",
    "    res = {'언급순위' : rank , '언급키워드' : name, '뉴스본문' : content}\n",
    "    \n",
    "    return res"
   ]
  },
  {
   "cell_type": "markdown",
   "id": "bce92055-f045-4f87-84bf-a36074d10d21",
   "metadata": {},
   "source": [
    "### [run] 실행함수"
   ]
  },
  {
   "cell_type": "code",
   "execution_count": 6,
   "id": "341ff8ff-2d96-4cbb-a3dd-6a397b8ce5fe",
   "metadata": {},
   "outputs": [],
   "source": [
    "def run(url) :\n",
    "    results = get_data(url)\n",
    "    if results :\n",
    "        parsed_data.extend([parse_result(x) for x in list(results)])\n",
    "        return True\n",
    "    else :\n",
    "        return False"
   ]
  },
  {
   "cell_type": "markdown",
   "id": "1d58d896-47c2-46e7-8e68-fe924316f82a",
   "metadata": {},
   "source": [
    "### [save_data] 데이터 저장"
   ]
  },
  {
   "cell_type": "code",
   "execution_count": 7,
   "id": "6c06a75f-f15c-41c3-8f40-0c0c1c582911",
   "metadata": {},
   "outputs": [],
   "source": [
    "def save_data(parsed_data) :\n",
    "    df = pd.DataFrame(parsed_data)\n",
    "    df.to_csv(\"data/bigkinds_news_202001_202109.csv\" ,index=True, encoding='utf-8-sig')   # 날짜 수정\n",
    "    return print(df.shape)"
   ]
  },
  {
   "cell_type": "markdown",
   "id": "2c69c24d-cd03-47bf-8854-65bbaa87074b",
   "metadata": {},
   "source": [
    "### [main] 분석"
   ]
  },
  {
   "cell_type": "code",
   "execution_count": 8,
   "id": "576f8df0-857f-4733-9655-5c682e4c9df7",
   "metadata": {},
   "outputs": [
    {
     "name": "stdout",
     "output_type": "stream",
     "text": [
      "2020-01-01 2020-03-01\n",
      "2020-03-01 2020-05-01\n",
      "2020-05-01 2020-07-01\n",
      "2020-07-01 2020-09-01\n",
      "2020-09-01 2020-11-01\n",
      "2020-11-01 2021-01-01\n",
      "2021-01-01 2021-03-01\n",
      "2021-03-01 2021-05-01\n",
      "2021-05-01 2021-07-01\n",
      "2021-07-01 2021-09-01\n",
      "(1000, 3)\n",
      "Wall time: 11 s\n"
     ]
    }
   ],
   "source": [
    "%%time\n",
    "\n",
    "if __name__ == '__main__' : # 메인실행을 위한 코드\n",
    "\n",
    "    ymd_list = get_ymd(start_ymd, end_ymd) #날짜리스트\n",
    "\n",
    "    for st in ymd_list :\n",
    "        start_ymd = datetime.strptime(st, '%Y-%m-%d')\n",
    "        end_ymd = datetime.strftime(start_ymd + relativedelta(months = 2), '%Y-%m-%d')\n",
    "        start_ymd = str(start_ymd)[:10]\n",
    "        print(start_ymd, end_ymd)       \n",
    "        run(url)\n",
    "        time.sleep(0.1)\n",
    "       \n",
    "    save_data(parsed_data) #데이터저장        \n",
    "    #마지막저장기록 \n",
    "    now = datetime.strftime(datetime.now(), '%Y-%m-%d %H:%M')\n",
    "\n",
    "    with open('data/openapi_log'+ start_ymd + end_ymd +'.txt', 'a+') as f :\n",
    "        f.write(\"크롤링날짜\\t시작일\\t종료일\\n\")\n",
    "        f.write(\"{}\\t{}\\t{}\\n\".format(now, start_ymd, end_ymd))\n",
    "        f.close()\n"
   ]
  },
  {
   "cell_type": "code",
   "execution_count": null,
   "id": "0a8a55d5-14c9-48fb-8e2e-5a1c31aa2504",
   "metadata": {},
   "outputs": [],
   "source": []
  }
 ],
 "metadata": {
  "kernelspec": {
   "display_name": "Python 3",
   "language": "python",
   "name": "python3"
  },
  "language_info": {
   "codemirror_mode": {
    "name": "ipython",
    "version": 3
   },
   "file_extension": ".py",
   "mimetype": "text/x-python",
   "name": "python",
   "nbconvert_exporter": "python",
   "pygments_lexer": "ipython3",
   "version": "3.8.8"
  }
 },
 "nbformat": 4,
 "nbformat_minor": 5
}
