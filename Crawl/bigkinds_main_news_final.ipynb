{
 "cells": [
  {
   "cell_type": "code",
   "execution_count": 1,
   "id": "edfe00a2-de3f-4018-89b9-f77ec895b669",
   "metadata": {},
   "outputs": [],
   "source": [
    "import pandas as pd\n",
    "import requests\n",
    "import time\n",
    "import json\n",
    "\n",
    "from bs4 import BeautifulSoup\n",
    "from datetime import datetime\n",
    "from dateutil.relativedelta import relativedelta"
   ]
  },
  {
   "cell_type": "markdown",
   "id": "b768b439-089a-449a-9341-5858c3bd4869",
   "metadata": {},
   "source": [
    "### 기본값 설정"
   ]
  },
  {
   "cell_type": "code",
   "execution_count": 2,
   "id": "53b7c8db-c287-4133-ae13-76a61cd1dbc4",
   "metadata": {},
   "outputs": [],
   "source": [
    "url = 'http://tools.kinds.or.kr:8888/search/news'\n",
    "query = '부동산 AND 아파트'\n",
    "start_ymd = '2020-01-01'   #1일 단위로 설정\n",
    "end_ymd = '2021-09-01'     #1일 단위로 설정\n",
    "#return_from = 0\n",
    "#return_size = 100000 # 1만개까지 \n",
    "parsed_data = []"
   ]
  },
  {
   "cell_type": "markdown",
   "id": "3bc50299-51b4-4eb5-b42e-abab1a8ab889",
   "metadata": {},
   "source": [
    "[get_ymd] 시작일부터 종료일까지의 날짜"
   ]
  },
  {
   "cell_type": "code",
   "execution_count": 3,
   "id": "8e4c173b-711a-4bbd-b180-65a422c8c5d5",
   "metadata": {},
   "outputs": [],
   "source": [
    "def get_ymd(start_ymd, end_ymd) :\n",
    "    res = []\n",
    "    start = datetime.strptime(start_ymd, '%Y-%m-%d')\n",
    "    end = datetime.strptime(end_ymd, '%Y-%m-%d')\n",
    "    diff = (end.year - start.year) * 12 + (end.month  - start.month)\n",
    "    for i in range(int(diff/2)) :              \n",
    "        res.append(datetime.strftime(start + relativedelta(months = 2*i), '%Y-%m-%d'))\n",
    "    return res"
   ]
  },
  {
   "cell_type": "markdown",
   "id": "34adaf05-1cfd-4daf-b1a0-0f67827485d4",
   "metadata": {},
   "source": [
    "[get_data] json형식으로 data 가져오기 "
   ]
  },
  {
   "cell_type": "code",
   "execution_count": 4,
   "id": "9be2f395-2ec8-4c1a-a56e-cd224be43116",
   "metadata": {},
   "outputs": [],
   "source": [
    "def get_data(url) :\n",
    "    params = {\n",
    "        \"access_key\": \"cef63bff-8972-4140-82b6-2be184378ccc\",\n",
    "        \"argument\": {\n",
    "            \"query\": query,\n",
    "            \"published_at\": {\n",
    "                \"from\": start_ymd,\n",
    "                \"until\": end_ymd\n",
    "            },\n",
    "            \"sort\": {\"date\": \"desc\"},\n",
    "            \"hilight\": 200,\n",
    "            \"return_from\": 0,\n",
    "            \"return_size\": 10000,\n",
    "            \"fields\": [\n",
    "                \"byline\",\n",
    "                \"category\",\n",
    "                \"category_incident\",\n",
    "                \"provider_news_id\",\n",
    "                \"content\",  \n",
    "                \"hilight\",  \n",
    "            ]\n",
    "        }\n",
    "    }\n",
    "\n",
    "    headers = {'User-Agent' : 'Mozilla/5.0 (Windows NT 10.0; Win64; x64) AppleWebKit/537.36 (KHTML, like Gecko) Chrome/92.0.4515.159 Safari/537.36'}\n",
    "    \n",
    "    r = requests.post(url, json=params, headers=headers)\n",
    "    results = r.json()\n",
    "    return results['return_object']['documents']"
   ]
  },
  {
   "cell_type": "markdown",
   "id": "0d9fcf63-3700-4667-bcfa-915dd305561a",
   "metadata": {},
   "source": [
    "[parse_result] 데이터 파싱"
   ]
  },
  {
   "cell_type": "code",
   "execution_count": 5,
   "id": "839c0dcb-7dc3-4770-a4b4-5800246f1675",
   "metadata": {},
   "outputs": [],
   "source": [
    "def parse_result(result) :\n",
    "    news_id = result.get('news_id')\n",
    "    title = result.get('title')\n",
    "    content = result.get('content')\n",
    "    hilight = result.get('hilight')\n",
    "    news_published_at = result.get('published_at')\n",
    "    provider = result.get('provider')\n",
    "    category = result.get('category')\n",
    "    category_incident = result.get('category_incident')\n",
    "    if category_incident == \"[]\" :\n",
    "        category_incident = \"\"\n",
    "    else :\n",
    "        category_incident\n",
    "\n",
    "    \n",
    "    res = {'언론사' : provider , '뉴스식별번호' : news_id, '뉴스출고시간' : news_published_at, \n",
    "           '카테고리' : category, '카테고리체계' : category_incident,\n",
    "           '뉴스제목' : title, '뉴스본문' : content, '하이라이트' : hilight}\n",
    "    \n",
    "    return res"
   ]
  },
  {
   "cell_type": "markdown",
   "id": "61766659-1188-4340-a819-18e623078a66",
   "metadata": {},
   "source": [
    "[run] 실행함수"
   ]
  },
  {
   "cell_type": "code",
   "execution_count": 6,
   "id": "ddf3f367-f62b-47ea-99fd-75429096893d",
   "metadata": {},
   "outputs": [],
   "source": [
    "def run(url) :\n",
    "    results = get_data(url)\n",
    "    if results :\n",
    "        parsed_data.extend([parse_result(x) for x in list(results)])\n",
    "        return True\n",
    "    else :\n",
    "        return False"
   ]
  },
  {
   "cell_type": "markdown",
   "id": "9645d19a-55e7-458b-96a8-8b77c342709e",
   "metadata": {},
   "source": [
    "[save_data] 데이터 저장"
   ]
  },
  {
   "cell_type": "code",
   "execution_count": 7,
   "id": "a80d5749-1f81-4a19-bbec-f74848a691e7",
   "metadata": {},
   "outputs": [],
   "source": [
    "def save_data(parsed_data) :\n",
    "    df = pd.DataFrame(parsed_data)\n",
    "    df.to_csv(\"data/bigkinds_news_202001_202109.csv\" ,index=True, encoding='utf-8-sig')   # 날짜 수정\n",
    "    return print(df.shape)"
   ]
  },
  {
   "cell_type": "markdown",
   "id": "d7a7c43f-1e0c-4774-9b6e-879208d0643e",
   "metadata": {},
   "source": [
    "[main] 분석"
   ]
  },
  {
   "cell_type": "code",
   "execution_count": 8,
   "id": "0ecaa852",
   "metadata": {},
   "outputs": [
    {
     "name": "stdout",
     "output_type": "stream",
     "text": [
      "2020-01-01 2020-03-01\n",
      "2020-03-01 2020-05-01\n",
      "2020-05-01 2020-07-01\n",
      "2020-07-01 2020-09-01\n",
      "2020-09-01 2020-11-01\n",
      "2020-11-01 2021-01-01\n",
      "2021-01-01 2021-03-01\n",
      "2021-03-01 2021-05-01\n",
      "2021-05-01 2021-07-01\n",
      "2021-07-01 2021-09-01\n",
      "(66736, 8)\n",
      "Wall time: 1min 24s\n"
     ]
    }
   ],
   "source": [
    "%%time\n",
    "\n",
    "if __name__ == '__main__' : # 메인실행을 위한 코드\n",
    "\n",
    "    ymd_list = get_ymd(start_ymd, end_ymd) #날짜리스트\n",
    "\n",
    "    for st in ymd_list :\n",
    "        start_ymd = datetime.strptime(st, '%Y-%m-%d')\n",
    "        end_ymd = datetime.strftime(start_ymd + relativedelta(months = 2), '%Y-%m-%d')\n",
    "        start_ymd = str(start_ymd)[:10]\n",
    "        print(start_ymd, end_ymd)       \n",
    "        run(url)\n",
    "        time.sleep(0.1)\n",
    "       \n",
    "    save_data(parsed_data) #데이터저장        \n",
    "    #마지막저장기록 \n",
    "    now = datetime.strftime(datetime.now(), '%Y-%m-%d %H:%M')\n",
    "\n",
    "    with open('data/openapi_log'+ start_ymd + end_ymd +'.txt', 'a+') as f :\n",
    "        f.write(\"크롤링날짜\\t시작일\\t종료일\\n\")\n",
    "        f.write(\"{}\\t{}\\t{}\\n\".format(now, start_ymd, end_ymd))\n",
    "        f.close()\n"
   ]
  },
  {
   "cell_type": "code",
   "execution_count": null,
   "id": "0ab6bff9",
   "metadata": {},
   "outputs": [],
   "source": []
  }
 ],
 "metadata": {
  "kernelspec": {
   "display_name": "Python 3",
   "language": "python",
   "name": "python3"
  },
  "language_info": {
   "codemirror_mode": {
    "name": "ipython",
    "version": 3
   },
   "file_extension": ".py",
   "mimetype": "text/x-python",
   "name": "python",
   "nbconvert_exporter": "python",
   "pygments_lexer": "ipython3",
   "version": "3.8.8"
  }
 },
 "nbformat": 4,
 "nbformat_minor": 5
}
